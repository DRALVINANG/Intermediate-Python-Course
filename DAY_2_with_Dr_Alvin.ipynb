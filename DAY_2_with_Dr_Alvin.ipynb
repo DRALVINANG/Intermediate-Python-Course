{
  "nbformat": 4,
  "nbformat_minor": 0,
  "metadata": {
    "colab": {
      "name": "DAY_2_with_Dr_Alvin.ipynb",
      "provenance": [],
      "collapsed_sections": [
        "rsICWRLp9SRv",
        "DscJ2XhA_OY-",
        "1HagXOiTGww9",
        "XlJk1s4NH4h0",
        "IzZtQ44SI9p5",
        "4m3Shv4PLuv0",
        "m4RFOA-_VkYA",
        "Z9gtYnlFWgA5",
        "KrTl98eeZmaV",
        "I9s2eQvIZwj3",
        "4AnvtJ2vjmNH",
        "yrLG7Pxyj0go",
        "mojE79GemQ_9",
        "kUyl8MifmTDn",
        "jl9wNhK2mx27",
        "xtvSNP4-n7KS"
      ],
      "toc_visible": true
    },
    "kernelspec": {
      "name": "python3",
      "display_name": "Python 3"
    },
    "language_info": {
      "name": "python"
    }
  },
  "cells": [
    {
      "cell_type": "markdown",
      "source": [
        "#Menu for Day 2"
      ],
      "metadata": {
        "id": "8F5LEO-maXq6"
      }
    },
    {
      "cell_type": "markdown",
      "source": [
        "Topic 7: Comprehension\n",
        "+ i for i in range \n",
        "\n",
        "Topic 8: Mounting Google Drive + File IO\n",
        "\n",
        "Topic 9: Object Oriented Programming \n",
        "+ Class\n",
        "+ Inheritance\n",
        "+ Parents\n",
        "\n",
        "Topic 10: SQLite Databasing\n",
        "\n",
        "Topic 11: Error Handling\n",
        "+ IndexError\n",
        "+ IOError\n",
        "+ TypeError\n",
        "+ ValueError"
      ],
      "metadata": {
        "id": "EZwGhajgaPRh"
      }
    },
    {
      "cell_type": "markdown",
      "source": [
        "\n",
        "\n",
        "---\n",
        "\n"
      ],
      "metadata": {
        "id": "HniLkBsZaMYe"
      }
    },
    {
      "cell_type": "markdown",
      "metadata": {
        "id": "RO8QJ_0vpIkL"
      },
      "source": [
        "#Topic 7: Comprehension\n",
        "Comprehension is just a short form for combining lists + dictionary + sets"
      ]
    },
    {
      "cell_type": "markdown",
      "metadata": {
        "id": "Ga0bWSBorOr5"
      },
      "source": [
        "##7a) Comprehension for List"
      ]
    },
    {
      "cell_type": "code",
      "metadata": {
        "id": "Y-1n4MYObjMA",
        "colab": {
          "base_uri": "https://localhost:8080/"
        },
        "outputId": "ea753dfd-64f5-41b5-ad09-6aef67cf5b1e"
      },
      "source": [
        "# This is creating a List the usual way\n",
        "\n",
        "c = []\n",
        "for i in range(11): \n",
        "\tc.append(i*i)\n",
        "print(c)"
      ],
      "execution_count": null,
      "outputs": [
        {
          "output_type": "stream",
          "name": "stdout",
          "text": [
            "[0, 1, 4, 9, 16, 25, 36, 49, 64, 81, 100]\n"
          ]
        }
      ]
    },
    {
      "cell_type": "code",
      "source": [
        "help (print)"
      ],
      "metadata": {
        "colab": {
          "base_uri": "https://localhost:8080/"
        },
        "id": "gBLZD_j5L_8R",
        "outputId": "d71b91de-bd4e-45f6-a579-36f33abf7b30"
      },
      "execution_count": null,
      "outputs": [
        {
          "output_type": "stream",
          "name": "stdout",
          "text": [
            "Help on built-in function print in module builtins:\n",
            "\n",
            "print(...)\n",
            "    print(value, ..., sep=' ', end='\\n', file=sys.stdout, flush=False)\n",
            "    \n",
            "    Prints the values to a stream, or to sys.stdout by default.\n",
            "    Optional keyword arguments:\n",
            "    file:  a file-like object (stream); defaults to the current sys.stdout.\n",
            "    sep:   string inserted between values, default a space.\n",
            "    end:   string appended after the last value, default a newline.\n",
            "    flush: whether to forcibly flush the stream.\n",
            "\n"
          ]
        }
      ]
    },
    {
      "cell_type": "code",
      "metadata": {
        "id": "s75xROb8pywk",
        "colab": {
          "base_uri": "https://localhost:8080/"
        },
        "outputId": "92910e98-3ed2-4f99-a2bb-534829bf9f8d"
      },
      "source": [
        "#This is creating a List using Comprehension\n",
        "\n",
        "[i*i for i in range(1,11)]\n"
      ],
      "execution_count": null,
      "outputs": [
        {
          "output_type": "execute_result",
          "data": {
            "text/plain": [
              "[1, 4, 9, 16, 25, 36, 49, 64, 81, 100]"
            ]
          },
          "metadata": {},
          "execution_count": 3
        }
      ]
    },
    {
      "cell_type": "markdown",
      "source": [
        "\n",
        "\n",
        "---\n",
        "\n"
      ],
      "metadata": {
        "id": "Cz8WlpT3ahqo"
      }
    },
    {
      "cell_type": "markdown",
      "metadata": {
        "id": "PHVj9rPAvBH4"
      },
      "source": [
        "###1st Quiz of the Day\n",
        "\n",
        "Create a comprehensive list of 20 square numbers\n",
        "that are not divisible by 3 and 5\n",
        "\n",
        "Output should be\n",
        "[1,4,16,49,....]\n",
        "\n",
        "Time: 5 min"
      ]
    },
    {
      "cell_type": "code",
      "metadata": {
        "colab": {
          "base_uri": "https://localhost:8080/"
        },
        "id": "cxGL9er6vxlo",
        "outputId": "94b5f091-1362-4b99-a1f6-7ec4e0426c60"
      },
      "source": [
        "#Answer to 1st Quiz of the Day\n",
        "\n",
        "[i*i for i in range(11) if i%3 != 0 and i%5 != 0]"
      ],
      "execution_count": null,
      "outputs": [
        {
          "output_type": "execute_result",
          "data": {
            "text/plain": [
              "[1, 4, 16, 49, 64]"
            ]
          },
          "metadata": {},
          "execution_count": 4
        }
      ]
    },
    {
      "cell_type": "markdown",
      "source": [
        "\n",
        "\n",
        "---\n",
        "\n"
      ],
      "metadata": {
        "id": "HhWQ0MGAainK"
      }
    },
    {
      "cell_type": "markdown",
      "metadata": {
        "id": "5MTdyWvzrUoq"
      },
      "source": [
        "##7b) Comprehension for Set"
      ]
    },
    {
      "cell_type": "code",
      "metadata": {
        "id": "fRgGC_EVrX6u",
        "colab": {
          "base_uri": "https://localhost:8080/"
        },
        "outputId": "0b9c4991-34ed-4d4f-d544-455eb8891d28"
      },
      "source": [
        "#This is creating a Set the usual way\n",
        "\n",
        "set([i*i for i in range(11)])"
      ],
      "execution_count": null,
      "outputs": [
        {
          "output_type": "execute_result",
          "data": {
            "text/plain": [
              "{0, 1, 4, 9, 16, 25, 36, 49, 64, 81, 100}"
            ]
          },
          "metadata": {},
          "execution_count": 5
        }
      ]
    },
    {
      "cell_type": "code",
      "metadata": {
        "id": "3n5h_JR7rx-S",
        "colab": {
          "base_uri": "https://localhost:8080/"
        },
        "outputId": "2b162b38-9a8c-43e0-b87d-aa2c0bb8e3a1"
      },
      "source": [
        "#This is creating a Set using Comprehension\n",
        "\n",
        "{i*i for i in range(11)}"
      ],
      "execution_count": null,
      "outputs": [
        {
          "output_type": "execute_result",
          "data": {
            "text/plain": [
              "{0, 1, 4, 9, 16, 25, 36, 49, 64, 81, 100}"
            ]
          },
          "metadata": {},
          "execution_count": 6
        }
      ]
    },
    {
      "cell_type": "markdown",
      "source": [
        "\n",
        "\n",
        "---\n",
        "\n"
      ],
      "metadata": {
        "id": "rM5miOniakYC"
      }
    },
    {
      "cell_type": "markdown",
      "metadata": {
        "id": "UeVZZGpSuX7A"
      },
      "source": [
        "###2nd Quiz of the Day\n",
        "\n",
        "Extract the vocabulary of the sentence below and\n",
        "exclude {is, a, and}\n",
        "\n",
        "\"Today is a sunny day and a great day\"\n",
        "\n",
        "Hint: Use the split function to split out the words in the sentence\n",
        "\n",
        "Time : 10 min"
      ]
    },
    {
      "cell_type": "code",
      "metadata": {
        "id": "dWgZtg_YwC8R",
        "colab": {
          "base_uri": "https://localhost:8080/"
        },
        "outputId": "782de4ba-1f29-40b1-87f5-9cdfe71a20f0"
      },
      "source": [
        "#Answer to 2nd Quiz of the Day\n",
        "\n",
        "s = \"Today is a sunny day and a great day\"\n",
        "\n",
        "exclude_words = {'is','a','and'}\n",
        "\n",
        "{word for word in s.split() if word not in exclude_words}"
      ],
      "execution_count": null,
      "outputs": [
        {
          "output_type": "execute_result",
          "data": {
            "text/plain": [
              "{'Today', 'day', 'great', 'sunny'}"
            ]
          },
          "metadata": {},
          "execution_count": 7
        }
      ]
    },
    {
      "cell_type": "markdown",
      "source": [
        "\n",
        "\n",
        "---\n",
        "\n"
      ],
      "metadata": {
        "id": "aUD9hyd5alhY"
      }
    },
    {
      "cell_type": "markdown",
      "metadata": {
        "id": "n2VkIPj9wXjZ"
      },
      "source": [
        "##7c) Comprehension for Dictionary"
      ]
    },
    {
      "cell_type": "code",
      "metadata": {
        "id": "n_W3qz1LwblO",
        "colab": {
          "base_uri": "https://localhost:8080/"
        },
        "outputId": "d65453c1-ffbe-4b2b-a4b2-f5c29355bf5e"
      },
      "source": [
        "#Comrehension - Dictionary Example 1\n",
        "\n",
        "{i:i*i for i in range(11)}"
      ],
      "execution_count": null,
      "outputs": [
        {
          "output_type": "execute_result",
          "data": {
            "text/plain": [
              "{0: 0, 1: 1, 2: 4, 3: 9, 4: 16, 5: 25, 6: 36, 7: 49, 8: 64, 9: 81, 10: 100}"
            ]
          },
          "metadata": {},
          "execution_count": 8
        }
      ]
    },
    {
      "cell_type": "code",
      "metadata": {
        "colab": {
          "base_uri": "https://localhost:8080/"
        },
        "id": "TDURVP6dxLe_",
        "outputId": "86916694-5492-4507-b30d-3e85cdb0018b"
      },
      "source": [
        "#Comprehension - Dictionary Example 2li\n",
        "\n",
        "name = ['Ally','Belinda','Steve']\n",
        "height = [160,158,170]\n",
        "\n",
        "{name:height for name,height in zip(name,height)}"
      ],
      "execution_count": null,
      "outputs": [
        {
          "output_type": "execute_result",
          "data": {
            "text/plain": [
              "{'Ally': 160, 'Belinda': 158, 'Steve': 170}"
            ]
          },
          "metadata": {},
          "execution_count": 9
        }
      ]
    },
    {
      "cell_type": "markdown",
      "source": [
        "\n",
        "\n",
        "---\n",
        "\n"
      ],
      "metadata": {
        "id": "MZy5DDKtfcEf"
      }
    },
    {
      "cell_type": "markdown",
      "metadata": {
        "id": "LKYXsj7ewRzY"
      },
      "source": [
        "####3rd Quiz of the Day\n",
        "\n",
        "Given 2 dictionaries\n",
        "\n",
        "d1 = {'Tom': 14, 'Patrick': 12, 'Sean': 15}\n",
        "\n",
        "d2 = {'Jeanne': 14, 'Marie': 12}\n",
        "\n",
        "Merge the two dictionaries into 1 dictionary\n",
        "\n",
        "Hint: {......for d in (d1,d2) ....in d.items() }\n",
        "\n",
        "Time : 10 min"
      ]
    },
    {
      "cell_type": "code",
      "metadata": {
        "id": "Fl5jlOckwudp",
        "colab": {
          "base_uri": "https://localhost:8080/"
        },
        "outputId": "1a072f92-23cc-4eff-9ddd-3603b20a9f0f"
      },
      "source": [
        "#Answer to 3rd Quiz of the Day\n",
        "\n",
        "d1 = {'Tom': 14, 'Patrick': 12, 'Sean': 15}\n",
        "d2 = {'Jeanne': 14, 'Marie': 12}\n",
        "\n",
        "{i:j for d in (d1,d2) for i,j in d.items() }"
      ],
      "execution_count": null,
      "outputs": [
        {
          "output_type": "execute_result",
          "data": {
            "text/plain": [
              "{'Jeanne': 14, 'Marie': 12, 'Patrick': 12, 'Sean': 15, 'Tom': 14}"
            ]
          },
          "metadata": {},
          "execution_count": 10
        }
      ]
    },
    {
      "cell_type": "markdown",
      "source": [
        "\n",
        "\n",
        "---\n",
        "\n"
      ],
      "metadata": {
        "id": "TlSS1MwHNO4X"
      }
    },
    {
      "cell_type": "markdown",
      "metadata": {
        "id": "BrF6QnYzddTT"
      },
      "source": [
        "#Topic 8: Mounting Google Drive & File IO"
      ]
    },
    {
      "cell_type": "markdown",
      "metadata": {
        "id": "LWKPvJjVo-gG"
      },
      "source": [
        "#8a) Mounting Google Drive"
      ]
    },
    {
      "cell_type": "markdown",
      "source": [
        "##8a)(i) Import OS first to start handling Files and Directories"
      ],
      "metadata": {
        "id": "8_twiFRbgcnx"
      }
    },
    {
      "cell_type": "code",
      "metadata": {
        "id": "MhO9-g59gCdW"
      },
      "source": [
        "import os "
      ],
      "execution_count": null,
      "outputs": []
    },
    {
      "cell_type": "markdown",
      "source": [
        "##8a)(ii) Check the current Working Directory"
      ],
      "metadata": {
        "id": "T_P3c6Tsiv1V"
      }
    },
    {
      "cell_type": "code",
      "metadata": {
        "colab": {
          "base_uri": "https://localhost:8080/",
          "height": 36
        },
        "id": "YT7i2QJdiW3c",
        "outputId": "678463a6-096f-45f9-d1bd-523a03f062eb"
      },
      "source": [
        "os.getcwd()"
      ],
      "execution_count": null,
      "outputs": [
        {
          "output_type": "execute_result",
          "data": {
            "text/plain": [
              "'/content'"
            ],
            "application/vnd.google.colaboratory.intrinsic+json": {
              "type": "string"
            }
          },
          "metadata": {},
          "execution_count": 12
        }
      ]
    },
    {
      "cell_type": "markdown",
      "source": [
        "##8a)(iii) Mounting Google Drive"
      ],
      "metadata": {
        "id": "ojWmEkCCnMjT"
      }
    },
    {
      "cell_type": "code",
      "metadata": {
        "colab": {
          "base_uri": "https://localhost:8080/"
        },
        "id": "4PmMX-uKiYDA",
        "outputId": "34cd5e66-1330-4493-92c3-2a0d39045aca"
      },
      "source": [
        "from google.colab import drive\n",
        "drive.mount('/content/drive')"
      ],
      "execution_count": null,
      "outputs": [
        {
          "output_type": "stream",
          "name": "stdout",
          "text": [
            "Drive already mounted at /content/drive; to attempt to forcibly remount, call drive.mount(\"/content/drive\", force_remount=True).\n"
          ]
        }
      ]
    },
    {
      "cell_type": "markdown",
      "source": [
        "##8a)(iv) Changing the Working Directory"
      ],
      "metadata": {
        "id": "3Lq82COKnXqe"
      }
    },
    {
      "cell_type": "code",
      "metadata": {
        "id": "9t5gmB0-jFl2"
      },
      "source": [
        "path = '/content/drive/My Drive'\n",
        "os.chdir(path)"
      ],
      "execution_count": null,
      "outputs": []
    },
    {
      "cell_type": "markdown",
      "source": [
        "##8a)(v) Checking which Directory you are working in"
      ],
      "metadata": {
        "id": "DzE93K9zngOr"
      }
    },
    {
      "cell_type": "code",
      "metadata": {
        "colab": {
          "base_uri": "https://localhost:8080/",
          "height": 36
        },
        "id": "epLjrClfjaEO",
        "outputId": "2ddf0bc0-e5bb-4b04-d440-256c6eff8aeb"
      },
      "source": [
        "os.getcwd()"
      ],
      "execution_count": null,
      "outputs": [
        {
          "output_type": "execute_result",
          "data": {
            "text/plain": [
              "'/content/drive/My Drive'"
            ],
            "application/vnd.google.colaboratory.intrinsic+json": {
              "type": "string"
            }
          },
          "metadata": {},
          "execution_count": 15
        }
      ]
    },
    {
      "cell_type": "markdown",
      "source": [
        "##8a)(vi) Create a Test Folder in Google Drive"
      ],
      "metadata": {
        "id": "9R_OoKfTn1K8"
      }
    },
    {
      "cell_type": "code",
      "metadata": {
        "id": "sdeSadM_lqfD"
      },
      "source": [
        "path = '/content/drive/My Drive/test'"
      ],
      "execution_count": null,
      "outputs": []
    },
    {
      "cell_type": "markdown",
      "source": [
        "##8a)(vii) Change the Working Direcrtory to that Test Folder"
      ],
      "metadata": {
        "id": "MtSkcwjXn9tz"
      }
    },
    {
      "cell_type": "code",
      "metadata": {
        "colab": {
          "base_uri": "https://localhost:8080/",
          "height": 170
        },
        "id": "ThzVv6HgmEwG",
        "outputId": "41c8f501-82dd-408d-f701-822ad217b9f9"
      },
      "source": [
        "os.mkdir(path)"
      ],
      "execution_count": null,
      "outputs": [
        {
          "output_type": "error",
          "ename": "FileExistsError",
          "evalue": "ignored",
          "traceback": [
            "\u001b[0;31m---------------------------------------------------------------------------\u001b[0m",
            "\u001b[0;31mFileExistsError\u001b[0m                           Traceback (most recent call last)",
            "\u001b[0;32m<ipython-input-18-eb7dfef3e42a>\u001b[0m in \u001b[0;36m<module>\u001b[0;34m()\u001b[0m\n\u001b[0;32m----> 1\u001b[0;31m \u001b[0mos\u001b[0m\u001b[0;34m.\u001b[0m\u001b[0mmkdir\u001b[0m\u001b[0;34m(\u001b[0m\u001b[0mpath\u001b[0m\u001b[0;34m)\u001b[0m\u001b[0;34m\u001b[0m\u001b[0;34m\u001b[0m\u001b[0m\n\u001b[0m",
            "\u001b[0;31mFileExistsError\u001b[0m: [Errno 17] File exists: '/content/drive/My Drive/test'"
          ]
        }
      ]
    },
    {
      "cell_type": "markdown",
      "source": [
        "##8a)(viii) Create a foo.txt file in the Test Folder and write 'Hello Google Drive' into it"
      ],
      "metadata": {
        "id": "wrx_myv3pTVF"
      }
    },
    {
      "cell_type": "code",
      "metadata": {
        "id": "6kxa4vdUmPQJ"
      },
      "source": [
        "with open('/content/drive/My Drive/test/foo.txt', 'w') as f:\n",
        "  f.write('Hello Google Drive!')"
      ],
      "execution_count": null,
      "outputs": []
    },
    {
      "cell_type": "markdown",
      "source": [
        "##8a)(ix) Display the.txt file"
      ],
      "metadata": {
        "id": "ywCosR7zpa4x"
      }
    },
    {
      "cell_type": "code",
      "metadata": {
        "colab": {
          "base_uri": "https://localhost:8080/"
        },
        "id": "DXFtfCFrmhvb",
        "outputId": "22b1b2b7-638e-4ae1-96e5-79e6e853388a"
      },
      "source": [
        "!cat '/content/drive/My Drive/test/foo.txt'"
      ],
      "execution_count": null,
      "outputs": [
        {
          "output_type": "stream",
          "name": "stdout",
          "text": [
            "Hello Google Drive!"
          ]
        }
      ]
    },
    {
      "cell_type": "markdown",
      "source": [
        "##8a)(x) Display what is inside the Test Folder"
      ],
      "metadata": {
        "id": "yd77EPeSpfGx"
      }
    },
    {
      "cell_type": "code",
      "metadata": {
        "colab": {
          "base_uri": "https://localhost:8080/"
        },
        "id": "rqkmwkiwm_Wx",
        "outputId": "d21fa3de-fe96-4042-846b-fd0014a1f552"
      },
      "source": [
        "path = '/content/drive/My Drive/test'\n",
        "os.listdir(path)"
      ],
      "execution_count": null,
      "outputs": [
        {
          "output_type": "execute_result",
          "data": {
            "text/plain": [
              "['test.txt', 'user.txt', 'school.db', 'foo.txt']"
            ]
          },
          "metadata": {},
          "execution_count": 21
        }
      ]
    },
    {
      "cell_type": "markdown",
      "source": [
        "##8a)(xi) Delete the foo.txt file"
      ],
      "metadata": {
        "id": "edPEkyeIpmKB"
      }
    },
    {
      "cell_type": "code",
      "metadata": {
        "id": "kW-6Kt5GnK3g"
      },
      "source": [
        "os.remove('/content/drive/My Drive/test/foo.txt')"
      ],
      "execution_count": null,
      "outputs": []
    },
    {
      "cell_type": "markdown",
      "source": [
        "##8a)(xii) Delete the Test folder"
      ],
      "metadata": {
        "id": "XFmdvD64ptX1"
      }
    },
    {
      "cell_type": "code",
      "metadata": {
        "colab": {
          "base_uri": "https://localhost:8080/",
          "height": 188
        },
        "id": "mOlJWu1Sn2b6",
        "outputId": "1990c1dc-e2ce-4587-b191-c71e8750a901"
      },
      "source": [
        "path = '/content/drive/My Drive/test'\n",
        "os.rmdir(path)"
      ],
      "execution_count": null,
      "outputs": [
        {
          "output_type": "error",
          "ename": "OSError",
          "evalue": "ignored",
          "traceback": [
            "\u001b[0;31m---------------------------------------------------------------------------\u001b[0m",
            "\u001b[0;31mOSError\u001b[0m                                   Traceback (most recent call last)",
            "\u001b[0;32m<ipython-input-27-96e1a08fdb40>\u001b[0m in \u001b[0;36m<module>\u001b[0;34m()\u001b[0m\n\u001b[1;32m      1\u001b[0m \u001b[0mpath\u001b[0m \u001b[0;34m=\u001b[0m \u001b[0;34m'/content/drive/My Drive/test'\u001b[0m\u001b[0;34m\u001b[0m\u001b[0;34m\u001b[0m\u001b[0m\n\u001b[0;32m----> 2\u001b[0;31m \u001b[0mos\u001b[0m\u001b[0;34m.\u001b[0m\u001b[0mrmdir\u001b[0m\u001b[0;34m(\u001b[0m\u001b[0mpath\u001b[0m\u001b[0;34m)\u001b[0m\u001b[0;34m\u001b[0m\u001b[0;34m\u001b[0m\u001b[0m\n\u001b[0m",
            "\u001b[0;31mOSError\u001b[0m: [Errno 39] Directory not empty: '/content/drive/My Drive/test'"
          ]
        }
      ]
    },
    {
      "cell_type": "markdown",
      "source": [
        "\n",
        "\n",
        "---\n",
        "\n"
      ],
      "metadata": {
        "id": "dagxKO28p11a"
      }
    },
    {
      "cell_type": "markdown",
      "metadata": {
        "id": "byBocWyoxoBy"
      },
      "source": [
        "#8b) File IO"
      ]
    },
    {
      "cell_type": "markdown",
      "source": [
        "##8b)(i) Creating a Test Folder and making it the Working Directory"
      ],
      "metadata": {
        "id": "f9lThiPBtayL"
      }
    },
    {
      "cell_type": "code",
      "metadata": {
        "colab": {
          "base_uri": "https://localhost:8080/",
          "height": 243
        },
        "id": "CJtiYRhJxsik",
        "outputId": "e5d6f936-6ce0-4925-c0de-17bda3de88cb"
      },
      "source": [
        "import os\n",
        "\n",
        "path = '/content/drive/My Drive/test'\n",
        "os.mkdir(path) \n",
        "os.chdir(path)\n",
        "os.getcwd()"
      ],
      "execution_count": null,
      "outputs": [
        {
          "output_type": "error",
          "ename": "FileExistsError",
          "evalue": "ignored",
          "traceback": [
            "\u001b[0;31m---------------------------------------------------------------------------\u001b[0m",
            "\u001b[0;31mFileExistsError\u001b[0m                           Traceback (most recent call last)",
            "\u001b[0;32m<ipython-input-106-a7e4939f71e1>\u001b[0m in \u001b[0;36m<module>\u001b[0;34m()\u001b[0m\n\u001b[1;32m      2\u001b[0m \u001b[0;34m\u001b[0m\u001b[0m\n\u001b[1;32m      3\u001b[0m \u001b[0mpath\u001b[0m \u001b[0;34m=\u001b[0m \u001b[0;34m'/content/drive/My Drive/test'\u001b[0m\u001b[0;34m\u001b[0m\u001b[0;34m\u001b[0m\u001b[0m\n\u001b[0;32m----> 4\u001b[0;31m \u001b[0mos\u001b[0m\u001b[0;34m.\u001b[0m\u001b[0mmkdir\u001b[0m\u001b[0;34m(\u001b[0m\u001b[0mpath\u001b[0m\u001b[0;34m)\u001b[0m\u001b[0;34m\u001b[0m\u001b[0;34m\u001b[0m\u001b[0m\n\u001b[0m\u001b[1;32m      5\u001b[0m \u001b[0mos\u001b[0m\u001b[0;34m.\u001b[0m\u001b[0mchdir\u001b[0m\u001b[0;34m(\u001b[0m\u001b[0mpath\u001b[0m\u001b[0;34m)\u001b[0m\u001b[0;34m\u001b[0m\u001b[0;34m\u001b[0m\u001b[0m\n\u001b[1;32m      6\u001b[0m \u001b[0mos\u001b[0m\u001b[0;34m.\u001b[0m\u001b[0mgetcwd\u001b[0m\u001b[0;34m(\u001b[0m\u001b[0;34m)\u001b[0m\u001b[0;34m\u001b[0m\u001b[0;34m\u001b[0m\u001b[0m\n",
            "\u001b[0;31mFileExistsError\u001b[0m: [Errno 17] File exists: '/content/drive/My Drive/test'"
          ]
        }
      ]
    },
    {
      "cell_type": "markdown",
      "source": [
        "##8b)(ii) Opening the Test.txt file to Write"
      ],
      "metadata": {
        "id": "331VrjwHtht_"
      }
    },
    {
      "cell_type": "code",
      "metadata": {
        "id": "aZkgP6H-yCDm"
      },
      "source": [
        "f = open('test.txt','w')\n",
        "for i in range(10):\n",
        "    f.write('This is line {}\\n'.format(i+1))"
      ],
      "execution_count": null,
      "outputs": []
    },
    {
      "cell_type": "code",
      "metadata": {
        "id": "kpvwfFneyMsq",
        "colab": {
          "base_uri": "https://localhost:8080/"
        },
        "outputId": "83536c47-1df1-4a00-ac6d-7050721877f8"
      },
      "source": [
        "!cat '/content/drive/My Drive/test/test.txt'"
      ],
      "execution_count": null,
      "outputs": [
        {
          "output_type": "stream",
          "name": "stdout",
          "text": [
            "cat: '/content/drive/My Drive/test/test.txt': No such file or directory\n"
          ]
        }
      ]
    },
    {
      "cell_type": "markdown",
      "metadata": {
        "id": "WyeOxoa-zTBO"
      },
      "source": [
        "- You will notice that the code above displays nothing because 'w' simply opens the file to write, \n",
        "- but it will not 'write' anything to the .txt file. \n",
        "\n",
        "- You need to use 'a' to 'append' then it will work."
      ]
    },
    {
      "cell_type": "markdown",
      "source": [
        "##8b)(iii) Opening the Test.txt file to Append"
      ],
      "metadata": {
        "id": "SJPpn8iztrfn"
      }
    },
    {
      "cell_type": "code",
      "metadata": {
        "id": "rarnDq6YyOKQ"
      },
      "source": [
        "f = open('test.txt','a')\n",
        "for i in range(10):\n",
        "    f.write('This is line {}\\n'.format(i+10))"
      ],
      "execution_count": null,
      "outputs": []
    },
    {
      "cell_type": "code",
      "metadata": {
        "colab": {
          "base_uri": "https://localhost:8080/"
        },
        "id": "ZDb6YNgCySJx",
        "outputId": "0b72d797-4e04-4116-c5f9-6a9656b82c60"
      },
      "source": [
        "!cat '/content/drive/My Drive/test/test.txt'"
      ],
      "execution_count": null,
      "outputs": [
        {
          "output_type": "stream",
          "name": "stdout",
          "text": [
            "cat: '/content/drive/My Drive/test/test.txt': No such file or directory\n"
          ]
        }
      ]
    },
    {
      "cell_type": "markdown",
      "source": [
        "##8b)(iv) Closing the file"
      ],
      "metadata": {
        "id": "fUkZNUdgt2vp"
      }
    },
    {
      "cell_type": "code",
      "metadata": {
        "id": "mCSrGUAUybHv"
      },
      "source": [
        "f.close()"
      ],
      "execution_count": null,
      "outputs": []
    },
    {
      "cell_type": "markdown",
      "source": [
        "\n",
        "\n",
        "---\n",
        "\n"
      ],
      "metadata": {
        "id": "I-XFIRZGuE7Q"
      }
    },
    {
      "cell_type": "markdown",
      "metadata": {
        "id": "OYRtfWYf0lyN"
      },
      "source": [
        "##5th Quiz of the Day\n",
        "\n",
        "- Prompt user to enter the name, weight and height, and compute the bmi (=weight/height*height)\n",
        "\n",
        "- name = input('Enter name: ')\n",
        "\n",
        "- height = float(input('Enter height (m): '))\n",
        "\n",
        "- weight = float(input('Enter weight (kg): '))\n",
        "\n",
        "- enter the data into a file in the format below. \n",
        "- convert name to lower case and round bmi to 2 decimal places.\n",
        "\n",
        "- name    height   weight   bmi\n",
        "\n",
        "- alfred  1.7      72.3     25.02\n",
        "\n",
        "- steve   1.75     68.0     22.2"
      ]
    },
    {
      "cell_type": "code",
      "metadata": {
        "id": "UBL9d8bGzjVL",
        "colab": {
          "base_uri": "https://localhost:8080/"
        },
        "outputId": "95945628-fd35-4725-c563-c88b3c9eb716"
      },
      "source": [
        "#Answer to 5th Quiz of the Day\n",
        "\n",
        "from google.colab import drive\n",
        "drive.mount('/content/drive')"
      ],
      "execution_count": null,
      "outputs": [
        {
          "output_type": "stream",
          "name": "stdout",
          "text": [
            "Drive already mounted at /content/drive; to attempt to forcibly remount, call drive.mount(\"/content/drive\", force_remount=True).\n"
          ]
        }
      ]
    },
    {
      "cell_type": "code",
      "metadata": {
        "id": "_hIndiDF67UW",
        "colab": {
          "base_uri": "https://localhost:8080/",
          "height": 36
        },
        "outputId": "f0a2e909-0aa1-4884-ba63-d6d6decc99bd"
      },
      "source": [
        "import os \n",
        "path = '/content/drive/My Drive/test'\n",
        "os.chdir(path)\n",
        "os.getcwd()"
      ],
      "execution_count": null,
      "outputs": [
        {
          "output_type": "execute_result",
          "data": {
            "text/plain": [
              "'/content/drive/My Drive/test'"
            ],
            "application/vnd.google.colaboratory.intrinsic+json": {
              "type": "string"
            }
          },
          "metadata": {},
          "execution_count": 35
        }
      ]
    },
    {
      "cell_type": "code",
      "metadata": {
        "id": "71a25Ldi6-kr",
        "colab": {
          "base_uri": "https://localhost:8080/"
        },
        "outputId": "59ca3dae-6287-475a-846d-c61329b05429"
      },
      "source": [
        "f = open('user.txt','w')\n",
        "f.write(\"name\\theight\\tweight\\tbmi\\n\")"
      ],
      "execution_count": null,
      "outputs": [
        {
          "output_type": "execute_result",
          "data": {
            "text/plain": [
              "23"
            ]
          },
          "metadata": {},
          "execution_count": 36
        }
      ]
    },
    {
      "cell_type": "code",
      "metadata": {
        "id": "klewB-7-7A4Q",
        "colab": {
          "base_uri": "https://localhost:8080/"
        },
        "outputId": "5224dcd8-415a-48f5-a6d5-c65d2d9fee63"
      },
      "source": [
        "name = input('Enter name: ')\n",
        "height = float(input('Enter height (m): '))\n",
        "weight = float(input('Enter weight (kg): '))\n",
        "with open(\"user.txt\",'a') as f:\n",
        "    bmi =  round(weight/(height*height),2)\n",
        "    f.write(\"{}\\t{}\\t{}\\t{}\\n\".format(name.lower(),height,weight,bmi))"
      ],
      "execution_count": null,
      "outputs": [
        {
          "name": "stdout",
          "output_type": "stream",
          "text": [
            "Enter name: sd\n",
            "Enter height (m): 4\n",
            "Enter weight (kg): 4\n"
          ]
        }
      ]
    },
    {
      "cell_type": "code",
      "metadata": {
        "id": "XUK9hoDc7kRk",
        "colab": {
          "base_uri": "https://localhost:8080/"
        },
        "outputId": "3eef590c-4803-4411-ccab-f0fbf561b973"
      },
      "source": [
        "!cat '/content/drive/My Drive/test/user.txt'"
      ],
      "execution_count": null,
      "outputs": [
        {
          "output_type": "stream",
          "name": "stdout",
          "text": [
            "name\theight\tweight\tbmi\n"
          ]
        }
      ]
    },
    {
      "cell_type": "markdown",
      "source": [
        "\n",
        "\n",
        "---\n",
        "\n"
      ],
      "metadata": {
        "id": "omjDtP3QNqXv"
      }
    },
    {
      "cell_type": "markdown",
      "metadata": {
        "id": "sz8--DmT8-lP"
      },
      "source": [
        "#Topic 9: Object Oriented Programming"
      ]
    },
    {
      "cell_type": "markdown",
      "metadata": {
        "id": "rsICWRLp9SRv"
      },
      "source": [
        "##9a) Creating Class and Object\n",
        "\n",
        "- A class is the parent of an object.\n",
        "\n",
        "- The object will take over the attributes of the parent."
      ]
    },
    {
      "cell_type": "code",
      "metadata": {
        "id": "qS-AtkFD9Mp-"
      },
      "source": [
        "#This is an Example of a Class = Animal \n",
        "\n",
        "class Animal:\n",
        "    color = \"black\"\n",
        "    legs = 4\n",
        "    \n",
        "    def walk(self):\n",
        "        print(\"walk like an animal\")\n",
        "    \n",
        "    def type(self):\n",
        "        print('This {} animal has {} legs'.format(self.color,self.legs))\n"
      ],
      "execution_count": null,
      "outputs": []
    },
    {
      "cell_type": "code",
      "metadata": {
        "id": "R03LhpPS-hEM",
        "colab": {
          "base_uri": "https://localhost:8080/"
        },
        "outputId": "42fee3dd-3287-4466-d021-4f4a4b79ca5b"
      },
      "source": [
        "#This is an Example of an Object = Dog\n",
        "\n",
        "dog = Animal()\n",
        "print(dog.color)\n",
        "print(dog.legs)"
      ],
      "execution_count": null,
      "outputs": [
        {
          "output_type": "stream",
          "name": "stdout",
          "text": [
            "black\n",
            "4\n"
          ]
        }
      ]
    },
    {
      "cell_type": "code",
      "source": [
        "dog.walk()\n",
        "dog.type()"
      ],
      "metadata": {
        "colab": {
          "base_uri": "https://localhost:8080/"
        },
        "id": "AuqNuVtXxD5H",
        "outputId": "47c679a6-2013-4de7-c14e-96a0031f2fcc"
      },
      "execution_count": null,
      "outputs": [
        {
          "output_type": "stream",
          "name": "stdout",
          "text": [
            "walk like an animal\n",
            "This black animal has 4 legs\n"
          ]
        }
      ]
    },
    {
      "cell_type": "code",
      "source": [
        "Alvin = Animal()\n",
        "print(Alvin.color)\n",
        "print(Alvin.legs)"
      ],
      "metadata": {
        "colab": {
          "base_uri": "https://localhost:8080/"
        },
        "id": "F97-ncosw6k_",
        "outputId": "ac2e3884-744a-4993-b07d-e1f1842d979b"
      },
      "execution_count": null,
      "outputs": [
        {
          "output_type": "stream",
          "name": "stdout",
          "text": [
            "black\n",
            "4\n"
          ]
        }
      ]
    },
    {
      "cell_type": "markdown",
      "source": [
        "\n",
        "\n",
        "---\n",
        "\n"
      ],
      "metadata": {
        "id": "P4BSG8fexjPo"
      }
    },
    {
      "cell_type": "markdown",
      "metadata": {
        "id": "DscJ2XhA_OY-"
      },
      "source": [
        "###6th Quiz of the Day\n",
        "\n",
        "- Create a Counter class with a property of count.\n",
        "\n",
        "- This class has 3 functions\n",
        "** 1. increment the count by 1\n",
        "** 2. increment the count by n\n",
        "** 3. reset the count to 0\n",
        "\n",
        "Time: 10 min"
      ]
    },
    {
      "cell_type": "code",
      "metadata": {
        "id": "WRZz8k5SABqz"
      },
      "source": [
        "#Answer to 6th Quiz of the Day\n",
        "\n",
        "class Counter:\n",
        "    count = 0\n",
        "\n",
        "    def reset(self):\n",
        "        self.count = 0\n",
        "\n",
        "    def increment(self):\n",
        "        self.count = self.count + 1\n",
        "    \n",
        "    def incrementByN(self,n):\n",
        "        self.count = self.count + n"
      ],
      "execution_count": null,
      "outputs": []
    },
    {
      "cell_type": "code",
      "source": [
        "counter = Counter()\n",
        "print(counter.count)"
      ],
      "metadata": {
        "colab": {
          "base_uri": "https://localhost:8080/"
        },
        "id": "yVCYDb4ixszo",
        "outputId": "031864c2-cf1e-497e-a79c-02e50bd302a4"
      },
      "execution_count": null,
      "outputs": [
        {
          "output_type": "stream",
          "name": "stdout",
          "text": [
            "0\n"
          ]
        }
      ]
    },
    {
      "cell_type": "code",
      "source": [
        "counter.increment()\n",
        "counter.increment()\n",
        "counter.increment()\n",
        "print(counter.count)"
      ],
      "metadata": {
        "colab": {
          "base_uri": "https://localhost:8080/"
        },
        "id": "PLNkUvrwyH-L",
        "outputId": "9dd562fe-463d-462f-8f5e-9774f12ba232"
      },
      "execution_count": null,
      "outputs": [
        {
          "output_type": "stream",
          "name": "stdout",
          "text": [
            "3\n"
          ]
        }
      ]
    },
    {
      "cell_type": "code",
      "source": [
        "counter.incrementByN(10)\n",
        "print(counter.count)"
      ],
      "metadata": {
        "colab": {
          "base_uri": "https://localhost:8080/"
        },
        "id": "PXxFcAFPyZz3",
        "outputId": "00d5ec69-34af-4416-abd8-fce10cc62098"
      },
      "execution_count": null,
      "outputs": [
        {
          "output_type": "stream",
          "name": "stdout",
          "text": [
            "13\n"
          ]
        }
      ]
    },
    {
      "cell_type": "code",
      "source": [
        "counter.reset()\n",
        "print(counter.count)"
      ],
      "metadata": {
        "colab": {
          "base_uri": "https://localhost:8080/"
        },
        "id": "pYzyJPNoyeXO",
        "outputId": "69fb5b37-ced3-4dee-e1f5-e429765a9bcc"
      },
      "execution_count": null,
      "outputs": [
        {
          "output_type": "stream",
          "name": "stdout",
          "text": [
            "0\n"
          ]
        }
      ]
    },
    {
      "cell_type": "markdown",
      "source": [
        "\n",
        "\n",
        "---\n",
        "\n"
      ],
      "metadata": {
        "id": "dyjkvm0PxkVw"
      }
    },
    {
      "cell_type": "markdown",
      "metadata": {
        "id": "1HagXOiTGww9"
      },
      "source": [
        "##9b) Using Initializer for Class\n",
        "\n",
        "- An initializer is a must to use for Class.\n",
        "\n",
        "- Purpose to initialize the inputs by the user."
      ]
    },
    {
      "cell_type": "code",
      "metadata": {
        "id": "oQNfYVyaHIA_"
      },
      "source": [
        "#Initializing a Class Example 1\n",
        "\n",
        "class Animal:\n",
        "\n",
        "    def __init__(self,color,legs):\n",
        "        self.color = color\n",
        "        self.legs = legs\n",
        "        \n",
        "    def walk(self):\n",
        "        print(\"walk like an animal\")\n",
        "    \n",
        "    def type(self):\n",
        "        print('This {} animal has {} legs'.format(self.color,self.legs))\n",
        "\n",
        "#self is like a global variable shared across all def"
      ],
      "execution_count": null,
      "outputs": []
    },
    {
      "cell_type": "code",
      "metadata": {
        "id": "N4YGINYpHbA3",
        "colab": {
          "base_uri": "https://localhost:8080/"
        },
        "outputId": "683f3046-41a2-4149-c6b2-d8fb97f8fd35"
      },
      "source": [
        "#Using the Class on an Object\n",
        "\n",
        "spider = Animal('brown',8)\n",
        "spider.type()"
      ],
      "execution_count": null,
      "outputs": [
        {
          "output_type": "stream",
          "name": "stdout",
          "text": [
            "This brown animal has 8 legs\n"
          ]
        }
      ]
    },
    {
      "cell_type": "code",
      "metadata": {
        "id": "HwsET-xXHj-J"
      },
      "source": [
        "#Initializing a Class Example 2\n",
        "\n",
        "class Person:\n",
        "     \n",
        "    def __init__(self,name, height):\n",
        "         self.name = name\n",
        "         self.height = height\n",
        "    \n",
        "    def disp_height(self):\n",
        "        print(\"{} height is {}cm\".format(self.name, self.height))\n"
      ],
      "execution_count": null,
      "outputs": []
    },
    {
      "cell_type": "code",
      "metadata": {
        "id": "x5exTUhzHqsT",
        "colab": {
          "base_uri": "https://localhost:8080/"
        },
        "outputId": "2aaeb738-911d-4c95-f1c7-2cafab0e0d22"
      },
      "source": [
        "#Using the Class on an Object\n",
        "#Type This\n",
        "\n",
        "alfred = Person('Alfred',170)\n",
        "alfred.disp_height()"
      ],
      "execution_count": null,
      "outputs": [
        {
          "output_type": "stream",
          "name": "stdout",
          "text": [
            "Alfred height is 170cm\n"
          ]
        }
      ]
    },
    {
      "cell_type": "markdown",
      "source": [
        "\n",
        "\n",
        "---\n",
        "\n"
      ],
      "metadata": {
        "id": "yERjh9_czzet"
      }
    },
    {
      "cell_type": "markdown",
      "metadata": {
        "id": "XlJk1s4NH4h0"
      },
      "source": [
        "###7th Quiz of the Day\n",
        "\n",
        "Write a Rectangle Class with an initializer to accept two properties: length and width. \n",
        "\n",
        "The Rectangle Class has a method to compute the area of the rectangle\n",
        "\n",
        "Time: 10 min"
      ]
    },
    {
      "cell_type": "code",
      "metadata": {
        "id": "WYFnoVxZH_kP"
      },
      "source": [
        "#Answer to 7th Quiz of the Day\n",
        "\n",
        "class Rectangle:\n",
        "    \n",
        "    def __init__(self,length,width):\n",
        "        self.length = length\n",
        "        self.width = width\n",
        "    \n",
        "    def area(self):\n",
        "        return self.length*self.width"
      ],
      "execution_count": null,
      "outputs": []
    },
    {
      "cell_type": "code",
      "metadata": {
        "id": "pDVQt_kOIOBd",
        "colab": {
          "base_uri": "https://localhost:8080/"
        },
        "outputId": "ba619cd2-6bc8-479c-f780-6acc7e6a8bb1"
      },
      "source": [
        "rect1 = Rectangle(10,20)\n",
        "rect1.area()"
      ],
      "execution_count": null,
      "outputs": [
        {
          "output_type": "execute_result",
          "data": {
            "text/plain": [
              "200"
            ]
          },
          "metadata": {},
          "execution_count": 53
        }
      ]
    },
    {
      "cell_type": "markdown",
      "source": [
        "\n",
        "\n",
        "---\n",
        "\n"
      ],
      "metadata": {
        "id": "b-dx2h7Cz0ed"
      }
    },
    {
      "cell_type": "markdown",
      "metadata": {
        "id": "IzZtQ44SI9p5"
      },
      "source": [
        "##9c) Using Destructor for Class\n",
        "\n",
        "Destructor is simply used to delete away objects"
      ]
    },
    {
      "cell_type": "code",
      "metadata": {
        "id": "5CBj-SRnKETa"
      },
      "source": [
        "#Destructor Exampe\n",
        "\n",
        "class Animal:\n",
        "\n",
        "    def __init__(self,color,legs):\n",
        "        self.color = color\n",
        "        self.legs = legs\n",
        "\n",
        "    def __del__(self):\n",
        "        print(\"The animal has destroyed\")\n",
        "        \n",
        "    def walk(self):\n",
        "        print(\"walk like an animal\")\n",
        "    \n",
        "    def type(self):\n",
        "        print('This {} animal has {} legs'.format(self.color,self.legs))"
      ],
      "execution_count": null,
      "outputs": []
    },
    {
      "cell_type": "code",
      "metadata": {
        "id": "R8QMmVkvKOuL",
        "colab": {
          "base_uri": "https://localhost:8080/"
        },
        "outputId": "a9e2f743-71ae-459b-ae1c-9cbc56b71219"
      },
      "source": [
        "#The del will delete away the object - cat\n",
        "\n",
        "cat = Animal('white',3)\n",
        "cat.type()\n",
        "del cat"
      ],
      "execution_count": null,
      "outputs": [
        {
          "output_type": "stream",
          "name": "stdout",
          "text": [
            "This white animal has 3 legs\n",
            "The animal has destroyed\n"
          ]
        }
      ]
    },
    {
      "cell_type": "markdown",
      "metadata": {
        "id": "4m3Shv4PLuv0"
      },
      "source": [
        "##9d) Learning about Instances\n",
        "\n",
        "Instances are simply the 'def' within the 'class'.\n",
        "\n",
        "Meaning, they are the syntax within the sub-functions."
      ]
    },
    {
      "cell_type": "code",
      "metadata": {
        "id": "G3bTMSBLLyDM"
      },
      "source": [
        "class Animal:\n",
        "\n",
        "    color = 'white'\n",
        "    legs = 4\n",
        "\n",
        "#color and legs are Class Variables\n",
        "\n",
        "    def __init__(self,color,legs):\n",
        "        self.color = color\n",
        "        self.legs = legs\n",
        "\n",
        "# self.color and self.legs are Instance Variables        \n",
        "    \n",
        "    def instanceType(self):\n",
        "        print('This {} animal has {} legs'.format(self.color,self.legs))      \n",
        "\n",
        "#notice that the 'self.' points back to the 'Instance'\n",
        "\n",
        "    def classType(self):\n",
        "        print('This {} animal has {} legs'.format(Animal.color,Animal.legs))\n",
        "\n",
        "#notice that the 'Animal.' points back to the 'Class'"
      ],
      "execution_count": null,
      "outputs": []
    },
    {
      "cell_type": "code",
      "source": [
        "Alvin = Animal('stupid', 3)"
      ],
      "metadata": {
        "id": "dGFmKj7jKAHm"
      },
      "execution_count": null,
      "outputs": []
    },
    {
      "cell_type": "code",
      "source": [
        "Alvin.instanceType()"
      ],
      "metadata": {
        "colab": {
          "base_uri": "https://localhost:8080/"
        },
        "id": "bE_JyrQeKdk7",
        "outputId": "1602c693-a223-4bb1-a549-580fdb08cd9e"
      },
      "execution_count": null,
      "outputs": [
        {
          "output_type": "stream",
          "name": "stdout",
          "text": [
            "This stupid animal has 3 legs\n"
          ]
        }
      ]
    },
    {
      "cell_type": "code",
      "source": [
        "Alvin.classType()"
      ],
      "metadata": {
        "colab": {
          "base_uri": "https://localhost:8080/"
        },
        "id": "7lTUD0y_Kfez",
        "outputId": "bcc71b77-2439-4829-9c9c-b65002ff2ed1"
      },
      "execution_count": null,
      "outputs": [
        {
          "output_type": "stream",
          "name": "stdout",
          "text": [
            "This white animal has 4 legs\n"
          ]
        }
      ]
    },
    {
      "cell_type": "markdown",
      "source": [
        "\n",
        "\n",
        "---\n",
        "\n"
      ],
      "metadata": {
        "id": "Q2K4U8Tg2jtI"
      }
    },
    {
      "cell_type": "markdown",
      "metadata": {
        "id": "m4RFOA-_VkYA"
      },
      "source": [
        "###8th Quiz of the Day\n",
        "\n",
        "Create a Employee class with the following\n",
        "properties\n",
        "\n",
        "- empCount : Number of Employees (class variable)\n",
        "- accept two properties: name, salary (instance\n",
        "variables)\n",
        "- a method to display employee count\n",
        "- a method to display employee name and salary\n",
        "\n",
        "When an employee object is created, the empCount\n",
        "increase by 1. When an employee object is deleted the empCount reduce by 1\n",
        "\n",
        "Time: 10 mins"
      ]
    },
    {
      "cell_type": "code",
      "metadata": {
        "id": "cy3jJGA3WHCy"
      },
      "source": [
        "#Answer to 8th Quiz of the Day\n",
        "\n",
        "class Employee:\n",
        "\n",
        "    empCount = 0\n",
        "\n",
        "    #empCount is a Class Variable\n",
        "    \n",
        "    def __init__(self,name,salary):\n",
        "        self.name = name\n",
        "        self.salary = salary\n",
        "        Employee.empCount = Employee.empCount+1\n",
        "\n",
        "        #self.name and self.salary are Instance Variables\n",
        "        #Employee.empCount is a Class Variable\n",
        "    \n",
        "    def __del__(self):\n",
        "        Employee.empCount = Employee.empCount-1\n",
        "    \n",
        "    def dispEmployee(self):\n",
        "        print(\"{} salary is {}\".format(self.name,self.salary))\n",
        "\n",
        "        #note that the 'self.' points back to the 'Instance'\n",
        "\n",
        "    def dispEmployeeCount(self):\n",
        "        print(\"Number of Employee is {}\".format(Employee.empCount)) \n",
        "\n",
        "        #note that the 'Employee.' points back to the 'Class'"
      ],
      "execution_count": null,
      "outputs": []
    },
    {
      "cell_type": "code",
      "metadata": {
        "id": "ooCd8_w9WKoX"
      },
      "source": [
        "emp1 = Employee('Ally',5000)\n",
        "emp2 = Employee('Belinda',6000)\n",
        "emp3 = Employee('Jane',4000)"
      ],
      "execution_count": null,
      "outputs": []
    },
    {
      "cell_type": "code",
      "source": [
        "emp1.dispEmployee()"
      ],
      "metadata": {
        "colab": {
          "base_uri": "https://localhost:8080/"
        },
        "id": "dcZ-TQ4qNGfG",
        "outputId": "8e498aa1-7511-4542-ab13-fc47abc95bc7"
      },
      "execution_count": null,
      "outputs": [
        {
          "output_type": "stream",
          "name": "stdout",
          "text": [
            "Ally salary is 5000\n"
          ]
        }
      ]
    },
    {
      "cell_type": "code",
      "source": [
        "emp1.dispEmployeeCount()"
      ],
      "metadata": {
        "id": "rReKESlFNIky",
        "colab": {
          "base_uri": "https://localhost:8080/"
        },
        "outputId": "e15175e9-39f8-4f5b-efda-c0bdab657ea6"
      },
      "execution_count": null,
      "outputs": [
        {
          "output_type": "stream",
          "name": "stdout",
          "text": [
            "Number of Employee is 3\n"
          ]
        }
      ]
    },
    {
      "cell_type": "code",
      "source": [
        "del emp1"
      ],
      "metadata": {
        "id": "dUzta-hWNKl1"
      },
      "execution_count": null,
      "outputs": []
    },
    {
      "cell_type": "code",
      "source": [
        "emp2.dispEmployeeCount()"
      ],
      "metadata": {
        "colab": {
          "base_uri": "https://localhost:8080/"
        },
        "id": "ycfQ9itJNMOy",
        "outputId": "24ed37a9-f953-4c9a-eb7c-6c7f53d1ffc0"
      },
      "execution_count": null,
      "outputs": [
        {
          "output_type": "stream",
          "name": "stdout",
          "text": [
            "Number of Employee is 2\n"
          ]
        }
      ]
    },
    {
      "cell_type": "markdown",
      "source": [
        "\n",
        "\n",
        "---\n",
        "\n"
      ],
      "metadata": {
        "id": "-pUtqkVx2bNl"
      }
    },
    {
      "cell_type": "markdown",
      "metadata": {
        "id": "Z9gtYnlFWgA5"
      },
      "source": [
        "##9e) Learning about Inheritance\n",
        "\n",
        "The child class inherits all the attributes and\n",
        "methods from the base (parent) class.\n",
        "\n",
        "class Dog(Animal):\n",
        "pass\n",
        "\n",
        "dog = Dog('brown',4)\n",
        "\n",
        "dog.type()"
      ]
    },
    {
      "cell_type": "code",
      "metadata": {
        "id": "NGJgJcWnWi-c"
      },
      "source": [
        "#Inheritance Example\n",
        "#Type this\n",
        "\n",
        "class Animal:\n",
        "\n",
        "    def __init__(self,color,legs):\n",
        "        self.color = color\n",
        "        self.legs = legs\n",
        "        \n",
        "    def walk(self):\n",
        "        print(\"walk like an animal\")\n",
        "    \n",
        "    def type(self):\n",
        "        print('This {} animal has {} legs'.format(self.color,self.legs))"
      ],
      "execution_count": null,
      "outputs": []
    },
    {
      "cell_type": "code",
      "metadata": {
        "id": "75iPU4pqXjk2"
      },
      "source": [
        "#Type this\n",
        "\n",
        "class Dog(Animal):\n",
        "    pass "
      ],
      "execution_count": null,
      "outputs": []
    },
    {
      "cell_type": "code",
      "metadata": {
        "id": "aXoH-NHXXyha",
        "colab": {
          "base_uri": "https://localhost:8080/"
        },
        "outputId": "af2de559-89d7-46f8-a3b8-281f3e23ba84"
      },
      "source": [
        "#Type this\n",
        "\n",
        "dog = Dog('brown',4)\n",
        "dog.type()"
      ],
      "execution_count": null,
      "outputs": [
        {
          "output_type": "stream",
          "name": "stdout",
          "text": [
            "This brown animal has 4 legs\n"
          ]
        }
      ]
    },
    {
      "cell_type": "markdown",
      "source": [
        "\n",
        "\n",
        "---\n",
        "\n"
      ],
      "metadata": {
        "id": "dIfnmglI2ZwU"
      }
    },
    {
      "cell_type": "markdown",
      "metadata": {
        "id": "nE-QmPc_YDet"
      },
      "source": [
        "##9f) Learning about Overwriting the Parent\n",
        "\n",
        "To Overwrite the Parent, use the super() function"
      ]
    },
    {
      "cell_type": "code",
      "metadata": {
        "id": "2Rklg3LfYOXX"
      },
      "source": [
        "#Type this\n",
        "\n",
        "class Dog(Animal):\n",
        "    \n",
        "    def __init__(self,color):\n",
        "        super().__init__(color,7)\n",
        "\n",
        "        #You can see here that the initialization is Overwritten with new color and legs\n",
        "  \n",
        "    def walk(self):\n",
        "        print(\"walk like an dog\")\n",
        "    \n",
        "    def talk(self):\n",
        "        print(\"woof woof woof\")"
      ],
      "execution_count": null,
      "outputs": []
    },
    {
      "cell_type": "code",
      "metadata": {
        "id": "oDMCEIszY7tO",
        "colab": {
          "base_uri": "https://localhost:8080/"
        },
        "outputId": "fe95efc0-97ae-42d5-ae3a-e87342ec6799"
      },
      "source": [
        "#Type This\n",
        "\n",
        "dog = Dog('brown')\n",
        "dog.type()\n",
        "dog.walk()\n",
        "dog.talk()"
      ],
      "execution_count": null,
      "outputs": [
        {
          "output_type": "stream",
          "name": "stdout",
          "text": [
            "This brown animal has 7 legs\n",
            "walk like an dog\n",
            "woof woof woof\n"
          ]
        }
      ]
    },
    {
      "cell_type": "markdown",
      "source": [
        "\n",
        "\n",
        "---\n",
        "\n"
      ],
      "metadata": {
        "id": "m-AGL6_v2XsM"
      }
    },
    {
      "cell_type": "markdown",
      "metadata": {
        "id": "KrTl98eeZmaV"
      },
      "source": [
        "###9th Quiz of the Day\n",
        "\n",
        "Create a Square Class inherited from Rectangle\n",
        "class and initializes the length.\n",
        "\n",
        "Add new method to computer the perimeter = 4*length\n",
        "\n",
        "Time: 10 min"
      ]
    },
    {
      "cell_type": "code",
      "metadata": {
        "id": "Z7IUCPMPZ-RS"
      },
      "source": [
        "#Answer to 9th Quiz of the Day\n",
        "\n",
        "class Rectangle:\n",
        "    \n",
        "    def __init__(self,length,width):\n",
        "        self.length = length\n",
        "        self.width = width\n",
        "    \n",
        "    def area(self):\n",
        "        return self.length*self.width\n",
        "\n"
      ],
      "execution_count": null,
      "outputs": []
    },
    {
      "cell_type": "code",
      "metadata": {
        "id": "aSSLtxRyaD_H"
      },
      "source": [
        "class Square(Rectangle):\n",
        "\n",
        "    def __init__(self,length):\n",
        "        super().__init__(length,length)\n",
        "\n",
        "    def perimeter(self):\n",
        "        return 4*self.length\n",
        "    "
      ],
      "execution_count": null,
      "outputs": []
    },
    {
      "cell_type": "code",
      "metadata": {
        "id": "d_zlTDRNaOVp",
        "colab": {
          "base_uri": "https://localhost:8080/"
        },
        "outputId": "c6cf9a5f-513a-4366-f235-fcc9495f5117"
      },
      "source": [
        "sq = Square(5)\n",
        "sq.area()"
      ],
      "execution_count": null,
      "outputs": [
        {
          "output_type": "execute_result",
          "data": {
            "text/plain": [
              "25"
            ]
          },
          "metadata": {},
          "execution_count": 73
        }
      ]
    },
    {
      "cell_type": "code",
      "metadata": {
        "id": "D_scvE9waQL5",
        "colab": {
          "base_uri": "https://localhost:8080/"
        },
        "outputId": "255174dc-ece9-466c-a734-080110fa21b4"
      },
      "source": [
        "sq.perimeter()"
      ],
      "execution_count": null,
      "outputs": [
        {
          "output_type": "execute_result",
          "data": {
            "text/plain": [
              "20"
            ]
          },
          "metadata": {},
          "execution_count": 74
        }
      ]
    },
    {
      "cell_type": "markdown",
      "source": [
        "\n",
        "\n",
        "---\n",
        "\n"
      ],
      "metadata": {
        "id": "fV0U2uQr2ND0"
      }
    },
    {
      "cell_type": "markdown",
      "metadata": {
        "id": "I9s2eQvIZwj3"
      },
      "source": [
        "###10th Quiz of the Day\n",
        "\n",
        "Create FullTimeStaff and PartTimeStaff child classes inherited from the Employee class\n",
        "\n",
        "- FullTimeStaff has extra attribute of leave beside name and salary\n",
        "- PartTimeStaff has name and hourly rate attributes, but no salary and leave attributes\n",
        "- Employee Count only count FullTimeStaff\n",
        "\n",
        "Time : 15 mins"
      ]
    },
    {
      "cell_type": "code",
      "metadata": {
        "id": "icBFA3v3asHQ"
      },
      "source": [
        "#Answer to 10th Quiz of the Day\n",
        "\n",
        "class Employee:\n",
        "\n",
        "    empCount = 0\n",
        "    \n",
        "    def __init__(self,name,salary):\n",
        "        self.name = name\n",
        "        self.salary = salary\n",
        "        Employee.empCount = Employee.empCount+1\n",
        "    \n",
        "    def __del__(self):\n",
        "        print(\"{} has left the company\".format(self.name))\n",
        "        Employee.empCount = Employee.empCount-1\n",
        "    \n",
        "    def dispEmployee(self):\n",
        "        print(\"{} salary is {}\".format(self.name,self.salary))\n",
        "\n",
        "    def dispEmployeeCount(self):\n",
        "        print(\"Number of Employee is {}\".format(Employee.empCount)) "
      ],
      "execution_count": null,
      "outputs": []
    },
    {
      "cell_type": "code",
      "metadata": {
        "id": "c730INmnazrn"
      },
      "source": [
        "class FullTimeStaff(Employee):\n",
        "    \n",
        "    def __init__(self,name,salary,leave):\n",
        "        super().__init__(name,salary)\n",
        "        self.leave = leave\n",
        "\n",
        "    def dispEmployee(self):\n",
        "        print(\"{} salary is {} and leave is {}\".format(self.name,self.salary,self.leave))\n",
        " "
      ],
      "execution_count": null,
      "outputs": []
    },
    {
      "cell_type": "code",
      "metadata": {
        "id": "kr3NQHAia0i1"
      },
      "source": [
        "class PartTimeStaff(Employee):\n",
        "    \n",
        "    def __init__(self,name,hrrate):\n",
        "        super().__init__(name,0)\n",
        "        self.hrrate = hrrate\n",
        "    \n",
        "    def __del__(self):\n",
        "        pass\n",
        "    \n",
        "    def dispEmployee(self):\n",
        "        print(\"{} hourly rate is {}\".format(self.name,self.hrrate))"
      ],
      "execution_count": null,
      "outputs": []
    },
    {
      "cell_type": "code",
      "metadata": {
        "id": "JyK9SlFya334"
      },
      "source": [
        "emp1 = FullTimeStaff('Ally',5000,24)\n",
        "emp2 = FullTimeStaff('Belinda',6000,21)\n",
        "emp3 = PartTimeStaff('Jane',100)"
      ],
      "execution_count": null,
      "outputs": []
    },
    {
      "cell_type": "code",
      "source": [
        "emp1.dispEmployee()"
      ],
      "metadata": {
        "colab": {
          "base_uri": "https://localhost:8080/"
        },
        "id": "sBHuXaWlud7h",
        "outputId": "0a057ebb-2c16-4c2f-af16-d97040d25f83"
      },
      "execution_count": null,
      "outputs": [
        {
          "output_type": "stream",
          "name": "stdout",
          "text": [
            "Ally salary is 5000 and leave is 24\n"
          ]
        }
      ]
    },
    {
      "cell_type": "code",
      "source": [
        "emp1.dispEmployeeCount()"
      ],
      "metadata": {
        "colab": {
          "base_uri": "https://localhost:8080/"
        },
        "id": "2aOS2ZATukA5",
        "outputId": "3853910c-a4a3-4826-ec11-e9f601619fe9"
      },
      "execution_count": null,
      "outputs": [
        {
          "output_type": "stream",
          "name": "stdout",
          "text": [
            "Number of Employee is 3\n"
          ]
        }
      ]
    },
    {
      "cell_type": "code",
      "source": [
        "emp3.dispEmployee()"
      ],
      "metadata": {
        "colab": {
          "base_uri": "https://localhost:8080/"
        },
        "id": "CIyvyUKSuk0J",
        "outputId": "7dc3a5c3-c852-4d0b-e798-a4e847391833"
      },
      "execution_count": null,
      "outputs": [
        {
          "output_type": "stream",
          "name": "stdout",
          "text": [
            "Jane hourly rate is 100\n"
          ]
        }
      ]
    },
    {
      "cell_type": "code",
      "source": [
        "del emp1"
      ],
      "metadata": {
        "colab": {
          "base_uri": "https://localhost:8080/"
        },
        "id": "MMiwio2WumkQ",
        "outputId": "b0243f8f-9767-4a6a-8195-b50b832b8b5d"
      },
      "execution_count": null,
      "outputs": [
        {
          "output_type": "stream",
          "name": "stdout",
          "text": [
            "Ally has left the company\n"
          ]
        }
      ]
    },
    {
      "cell_type": "code",
      "source": [
        "del emp3"
      ],
      "metadata": {
        "id": "SBLYGRonuotI"
      },
      "execution_count": null,
      "outputs": []
    },
    {
      "cell_type": "code",
      "source": [
        "emp2.dispEmployeeCount()"
      ],
      "metadata": {
        "colab": {
          "base_uri": "https://localhost:8080/"
        },
        "id": "h2zttvUjuqVo",
        "outputId": "31c0c22c-7a5c-4b66-ec4e-0208d97ac6cf"
      },
      "execution_count": null,
      "outputs": [
        {
          "output_type": "stream",
          "name": "stdout",
          "text": [
            "Number of Employee is 2\n"
          ]
        }
      ]
    },
    {
      "cell_type": "markdown",
      "source": [
        "\n",
        "\n",
        "---\n",
        "\n"
      ],
      "metadata": {
        "id": "xIy1y1yGNsYA"
      }
    },
    {
      "cell_type": "markdown",
      "metadata": {
        "id": "5skoVWOhcBpq"
      },
      "source": [
        "#Topic 10 = Databases"
      ]
    },
    {
      "cell_type": "markdown",
      "source": [
        "##10a) Import SQlite"
      ],
      "metadata": {
        "id": "B0XyensnjKJi"
      }
    },
    {
      "cell_type": "code",
      "metadata": {
        "id": "P4sG0PuecWkp"
      },
      "source": [
        "import sqlite3"
      ],
      "execution_count": null,
      "outputs": []
    },
    {
      "cell_type": "markdown",
      "source": [
        "##10b) Create a SQlite Database"
      ],
      "metadata": {
        "id": "DBCljnojjQ36"
      }
    },
    {
      "cell_type": "code",
      "metadata": {
        "id": "W5xy2sTFcltt"
      },
      "source": [
        "db = sqlite3.connect('school.db')"
      ],
      "execution_count": null,
      "outputs": []
    },
    {
      "cell_type": "markdown",
      "source": [
        "##10c) Create a Table in the Database"
      ],
      "metadata": {
        "id": "1wzHtO4mjiZr"
      }
    },
    {
      "cell_type": "code",
      "metadata": {
        "id": "BYUC8Cfoc8lQ",
        "colab": {
          "base_uri": "https://localhost:8080/"
        },
        "outputId": "dcaf678e-e86e-4c0a-88ff-691c6e6e3313"
      },
      "source": [
        "db.execute('create table student (name text,rank int)')"
      ],
      "execution_count": null,
      "outputs": [
        {
          "output_type": "execute_result",
          "data": {
            "text/plain": [
              "<sqlite3.Cursor at 0x7fc564fb1880>"
            ]
          },
          "metadata": {},
          "execution_count": 96
        }
      ]
    },
    {
      "cell_type": "markdown",
      "source": [
        "##10d) Insert Data into the Table"
      ],
      "metadata": {
        "id": "JTIs4AnYjoQo"
      }
    },
    {
      "cell_type": "code",
      "metadata": {
        "id": "hOc1fzpKdxiE"
      },
      "source": [
        "# Insert Record\n",
        "db.execute('insert into student (name,rank) values (?,?)',('Belinda',2))\n",
        "db.execute('insert into student (name,rank) values (?,?)',('Jane',3))\n",
        "db.execute('insert into student (name,rank) values (?,?)',('Steve',4))\n",
        "db.execute('insert into student (name,rank) values (?,?)',('Alfred',5))\n",
        "db.commit()"
      ],
      "execution_count": null,
      "outputs": []
    },
    {
      "cell_type": "markdown",
      "source": [
        "##10e) Read Record"
      ],
      "metadata": {
        "id": "Fw8ZgAa2kYW3"
      }
    },
    {
      "cell_type": "code",
      "metadata": {
        "id": "DvDAJ5ZUe-BC",
        "colab": {
          "base_uri": "https://localhost:8080/"
        },
        "outputId": "bf26b43e-48d4-4ac5-e249-3c582656dd53"
      },
      "source": [
        "list = db.execute('select * from student order by name')\n",
        "\n",
        "for i in list:\n",
        "\tprint(i)"
      ],
      "execution_count": null,
      "outputs": [
        {
          "output_type": "stream",
          "name": "stdout",
          "text": [
            "('Alfred', 5)\n",
            "('Belinda', 2)\n",
            "('Jane', 3)\n",
            "('Steve', 4)\n"
          ]
        }
      ]
    },
    {
      "cell_type": "markdown",
      "source": [
        "##10f) Edit Alfred and Steve Record"
      ],
      "metadata": {
        "id": "q87PGfYOkcFS"
      }
    },
    {
      "cell_type": "code",
      "metadata": {
        "id": "RHzXK91-fIuP",
        "colab": {
          "base_uri": "https://localhost:8080/"
        },
        "outputId": "9e0cd3e4-5d95-4c34-b311-8d5937675141"
      },
      "source": [
        "db.execute('update student set rank=? where name=?',(5,'Steve'))\n",
        "db.execute('update student set rank=? where name=?',(4,'Alfred'))\n"
      ],
      "execution_count": null,
      "outputs": [
        {
          "output_type": "execute_result",
          "data": {
            "text/plain": [
              "<sqlite3.Cursor at 0x7fc564fb1b90>"
            ]
          },
          "metadata": {},
          "execution_count": 99
        }
      ]
    },
    {
      "cell_type": "markdown",
      "source": [
        "##10g) Read the Record again"
      ],
      "metadata": {
        "id": "jge-QeEYkhzi"
      }
    },
    {
      "cell_type": "code",
      "metadata": {
        "id": "h_-HTEE5fTSX",
        "colab": {
          "base_uri": "https://localhost:8080/"
        },
        "outputId": "0cff41f7-32c3-444f-ac65-8c62926677f0"
      },
      "source": [
        "list = db.execute('select * from student order by name')\n",
        "\n",
        "for i in list:\n",
        "\tprint(i)"
      ],
      "execution_count": null,
      "outputs": [
        {
          "output_type": "stream",
          "name": "stdout",
          "text": [
            "('Alfred', 4)\n",
            "('Belinda', 2)\n",
            "('Jane', 3)\n",
            "('Steve', 5)\n"
          ]
        }
      ]
    },
    {
      "cell_type": "markdown",
      "source": [
        "##10h) Delete Steve Record"
      ],
      "metadata": {
        "id": "Xzzwk-GkkzZ0"
      }
    },
    {
      "cell_type": "code",
      "metadata": {
        "id": "779NbjC0fYRa",
        "colab": {
          "base_uri": "https://localhost:8080/"
        },
        "outputId": "2a259afc-d3f0-4ef7-fe8e-e141c4f8c062"
      },
      "source": [
        "db.execute('delete from student where rank=5')"
      ],
      "execution_count": null,
      "outputs": [
        {
          "output_type": "execute_result",
          "data": {
            "text/plain": [
              "<sqlite3.Cursor at 0x7fc564feadc0>"
            ]
          },
          "metadata": {},
          "execution_count": 101
        }
      ]
    },
    {
      "cell_type": "markdown",
      "source": [
        "##10i) Read the Record again"
      ],
      "metadata": {
        "id": "4YYclfcAk5Ct"
      }
    },
    {
      "cell_type": "code",
      "metadata": {
        "id": "7LWJ8eJxgY8H",
        "colab": {
          "base_uri": "https://localhost:8080/"
        },
        "outputId": "152b4cec-dcbc-4cb2-be84-b3f4c442e98c"
      },
      "source": [
        "list = db.execute('select * from student order by name')\n",
        "\n",
        "for i in list:\n",
        "\tprint(i)"
      ],
      "execution_count": null,
      "outputs": [
        {
          "output_type": "stream",
          "name": "stdout",
          "text": [
            "('Alfred', 4)\n",
            "('Belinda', 2)\n",
            "('Jane', 3)\n"
          ]
        }
      ]
    },
    {
      "cell_type": "markdown",
      "source": [
        "\n",
        "\n",
        "---\n",
        "\n"
      ],
      "metadata": {
        "id": "DrgDDS_yk-Cz"
      }
    },
    {
      "cell_type": "markdown",
      "metadata": {
        "id": "6Kue3Gn7g0x2"
      },
      "source": [
        "##11th Quiz of the Day\n",
        "\n",
        "Create a table \"subjects\" to your DB, students,\n",
        "classes. \n",
        "\n",
        "Insert the following records\n",
        "\n",
        "- subject - students - classes\n",
        "- English - 200 - 10\n",
        "- Chinese - 50 - 8\n",
        "- Math - 80-  12\n",
        "- Science - 80 - 12\n",
        "\n",
        "Time: 10min"
      ]
    },
    {
      "cell_type": "code",
      "metadata": {
        "id": "e-zbHBFRh6vq"
      },
      "source": [
        "#Answer to 11th Quiz of the Day\n",
        "\n",
        "import sqlite3"
      ],
      "execution_count": null,
      "outputs": []
    },
    {
      "cell_type": "code",
      "metadata": {
        "id": "CCuxxxpGh_IJ",
        "colab": {
          "base_uri": "https://localhost:8080/"
        },
        "outputId": "55c587f0-cd87-4c29-c590-a17bbffa2706"
      },
      "source": [
        "db.execute('create table subjects (subject text,students int, classes int)')"
      ],
      "execution_count": null,
      "outputs": [
        {
          "output_type": "execute_result",
          "data": {
            "text/plain": [
              "<sqlite3.Cursor at 0x7fc564fea9d0>"
            ]
          },
          "metadata": {},
          "execution_count": 103
        }
      ]
    },
    {
      "cell_type": "code",
      "metadata": {
        "id": "m3H77esoiBau"
      },
      "source": [
        "db.execute('insert into subjects (subject,students, classes) values (?,?,?)',('English',200,10))\n",
        "db.execute('insert into subjects (subject,students, classes) values (?,?,?)',('Chinese',50,8))\n",
        "db.execute('insert into subjects (subject,students, classes) values (?,?,?)',('Math',80,12))\n",
        "db.execute('insert into subjects (subject,students, classes) values (?,?,?)',('Science',80,12))\n",
        "db.commit()"
      ],
      "execution_count": null,
      "outputs": []
    },
    {
      "cell_type": "code",
      "metadata": {
        "id": "peP95CGliD34",
        "colab": {
          "base_uri": "https://localhost:8080/"
        },
        "outputId": "3e12d1fa-e510-4490-df80-68ed280c2631"
      },
      "source": [
        "list = db.execute('select * from subjects order by subject')\n",
        "\n",
        "for i in list:\n",
        "\tprint(i)"
      ],
      "execution_count": null,
      "outputs": [
        {
          "output_type": "stream",
          "name": "stdout",
          "text": [
            "('Chinese', 50, 8)\n",
            "('English', 200, 10)\n",
            "('Math', 80, 12)\n",
            "('Science', 80, 12)\n"
          ]
        }
      ]
    },
    {
      "cell_type": "markdown",
      "source": [
        "\n",
        "\n",
        "---\n",
        "\n"
      ],
      "metadata": {
        "id": "HnDFWZU4NuSW"
      }
    },
    {
      "cell_type": "markdown",
      "metadata": {
        "id": "UyBs0XhGiOx_"
      },
      "source": [
        "#Topic 11 = Error Handling\n",
        "\n",
        "Error Handling simply means handling errors when they pop up.\n",
        "\n",
        "Various type of Errors:\n",
        "- IndexError \n",
        "- IOError \n",
        "- TypeError\n",
        "- ValueError"
      ]
    },
    {
      "cell_type": "code",
      "metadata": {
        "id": "4Y0ZN5wniWGH",
        "colab": {
          "base_uri": "https://localhost:8080/"
        },
        "outputId": "1e715476-237c-40e5-e940-cf2ada9a2ae4"
      },
      "source": [
        "a = int(input('Enter an integer : '))\n",
        "print(\"You enter \",a)\n",
        "\n",
        "#notice the error that pops up when you key in something else"
      ],
      "execution_count": null,
      "outputs": [
        {
          "output_type": "stream",
          "name": "stdout",
          "text": [
            "Enter an integer : 3\n",
            "You enter  3\n"
          ]
        }
      ]
    },
    {
      "cell_type": "markdown",
      "metadata": {
        "id": "4AnvtJ2vjmNH"
      },
      "source": [
        "##11a) Learning Try-Except"
      ]
    },
    {
      "cell_type": "code",
      "metadata": {
        "id": "j_eo90cRjIjX",
        "colab": {
          "base_uri": "https://localhost:8080/"
        },
        "outputId": "4df76fd1-6f29-477f-a4e8-60eb118d2a6d"
      },
      "source": [
        "#Type this\n",
        "\n",
        "try:\n",
        "\ta = int(input('Enter an integer : '))\n",
        "\tprint(\"You enter \",a)\n",
        "except:\n",
        "\tprint(\"Please enter an integer\")\n",
        " \n",
        " #noticed you prevented the error from popping up, but it exited the program!"
      ],
      "execution_count": null,
      "outputs": [
        {
          "output_type": "stream",
          "name": "stdout",
          "text": [
            "Enter an integer : 6\n",
            "You enter  6\n"
          ]
        }
      ]
    },
    {
      "cell_type": "markdown",
      "metadata": {
        "id": "yrLG7Pxyj0go"
      },
      "source": [
        "##11b) Learning Try-Except-Else-Finally\n",
        "\n"
      ]
    },
    {
      "cell_type": "code",
      "metadata": {
        "id": "DGxHq_jmjpE8",
        "colab": {
          "base_uri": "https://localhost:8080/"
        },
        "outputId": "40382cd2-80e6-4995-fe3f-9912b7e434b1"
      },
      "source": [
        "#Type this\n",
        "\n",
        "try:\n",
        "\ta = int(input('Enter an integer : '))\n",
        "except ValueError:\n",
        "\tprint(\"Please enter an integer\")\n",
        "else:\n",
        "   \tprint(\"You enter \",a)\n",
        "finally:\n",
        "    print(\"Please try again\")"
      ],
      "execution_count": null,
      "outputs": [
        {
          "output_type": "stream",
          "name": "stdout",
          "text": [
            "Enter an integer : 5\n",
            "You enter  5\n",
            "Please try again\n"
          ]
        }
      ]
    },
    {
      "cell_type": "markdown",
      "metadata": {
        "id": "mojE79GemQ_9"
      },
      "source": [
        "##11c) Handling IO Errors"
      ]
    },
    {
      "cell_type": "code",
      "metadata": {
        "id": "NNJkQenmj3Mv",
        "colab": {
          "base_uri": "https://localhost:8080/"
        },
        "outputId": "d2bf021c-766c-456f-9b73-931aad3a50e8"
      },
      "source": [
        "#Handling IO Errors\n",
        "#Type this\n",
        "\n",
        "try:\n",
        "\tf = open('test888.txt','r')\n",
        "except IOError:\n",
        "    print(\"file does not exist\")\n"
      ],
      "execution_count": null,
      "outputs": [
        {
          "output_type": "stream",
          "name": "stdout",
          "text": [
            "file does not exist\n"
          ]
        }
      ]
    },
    {
      "cell_type": "markdown",
      "source": [
        "\n",
        "\n",
        "---\n",
        "\n"
      ],
      "metadata": {
        "id": "2mq9FeHjn0Dz"
      }
    },
    {
      "cell_type": "markdown",
      "metadata": {
        "id": "kUyl8MifmTDn"
      },
      "source": [
        "###12th Quiz of the Day\n",
        "\n",
        "import random\n",
        "\n",
        "die = random.choice([1,2,3,4,5,6])\n",
        "\n",
        "print('The correct answer is ',die)\n",
        "- Prompt user to guess an integer number\n",
        "- if guess correctly, jump out from the program.\n",
        "- If guess wrongly, ask user to guess again\n",
        "- Run the program from command line as Sublime\n",
        "- Text does not support input"
      ]
    },
    {
      "cell_type": "markdown",
      "source": [
        "\n",
        "\n",
        "---\n",
        "\n"
      ],
      "metadata": {
        "id": "rcZYn0K1n1X1"
      }
    },
    {
      "cell_type": "markdown",
      "metadata": {
        "id": "jl9wNhK2mx27"
      },
      "source": [
        "##11d) Learning about Random Function"
      ]
    },
    {
      "cell_type": "code",
      "metadata": {
        "id": "jDZ1B8I_mwie",
        "colab": {
          "base_uri": "https://localhost:8080/"
        },
        "outputId": "fb151d67-1726-45fd-d2b1-c65211430ae3"
      },
      "source": [
        "#Type this\n",
        "\n",
        "import random\n",
        "die = random.choice([1,2,3,4,5,6])\n",
        "print('The correct answer is ',die)\n"
      ],
      "execution_count": null,
      "outputs": [
        {
          "output_type": "stream",
          "name": "stdout",
          "text": [
            "The correct answer is  5\n"
          ]
        }
      ]
    },
    {
      "cell_type": "code",
      "metadata": {
        "id": "BqZ4SC0rm3qa",
        "colab": {
          "base_uri": "https://localhost:8080/"
        },
        "outputId": "4e0efe7e-fd74-46bb-a7b1-8e274ad184a8"
      },
      "source": [
        "#Answer to 12th Quiz of the Day\n",
        "\n",
        "while True:\n",
        "    try:\n",
        "        guess = int(input('Guess the die no : '))\n",
        "        if guess == die:\n",
        "            print(\"Good Guess\")\n",
        "            break\n",
        "        else:\n",
        "            print(\"Wrong\")\n",
        "    except:\n",
        "        print(\"Pls try again\")"
      ],
      "execution_count": null,
      "outputs": [
        {
          "output_type": "stream",
          "name": "stdout",
          "text": [
            "Guess the die no : 5\n",
            "Good Guess\n"
          ]
        }
      ]
    },
    {
      "cell_type": "markdown",
      "source": [
        "\n",
        "\n",
        "---\n",
        "\n"
      ],
      "metadata": {
        "id": "0U2AoRgcv-pK"
      }
    },
    {
      "cell_type": "markdown",
      "metadata": {
        "id": "P-7R4YJ5nfR4"
      },
      "source": [
        "#END OF DAY 2 = PRACTICAL MINI PROJECT\n",
        "##This project is optional and can be completed at your own pace / reference.\n",
        "\n",
        "This is a mini project based on a fictitious scenario:\n",
        "- MOE has engaged you to create a Python code to collect psle data\n",
        "and enter to database.\n",
        "** 1. Prompt user for name, subject, score\n",
        "** 2. Compute the tscore\n",
        "** 3. Create a Users DB and key the name, subject, score and tscore to\n",
        "the DB\n",
        "\n",
        "- The T-Score Formula is\n",
        "\n",
        "- tscore = 50+ 10*(score-avg)/std"
      ]
    },
    {
      "cell_type": "markdown",
      "metadata": {
        "id": "xtvSNP4-n7KS"
      },
      "source": [
        "##Answer to Practical Mini Project"
      ]
    },
    {
      "cell_type": "code",
      "metadata": {
        "id": "61alG-v5n5UV"
      },
      "source": [
        "import sqlite3\n",
        "db = sqlite3.connect('school.db')\n",
        "try:\n",
        "    db.execute('create table PSLETSCORE (name text,subject text,score float, tscore float)')\n",
        "except:\n",
        "    pass"
      ],
      "execution_count": null,
      "outputs": []
    },
    {
      "cell_type": "code",
      "metadata": {
        "id": "gGC9Y0PvoIWX"
      },
      "source": [
        "class TSCORE:\n",
        "\n",
        "    avg = 60\n",
        "    std = 14\n",
        "\n",
        "    def __init__(self,name,subject,score):\n",
        "        self.name = name\n",
        "        self.subject = subject\n",
        "        self.score = score\n",
        "        self.tscore = round(50 + 10*(self.score-TSCORE.avg)/TSCORE.std,2)\n",
        "\n",
        "    def keyDB(self):\n",
        "        db.execute('insert into PSLETSCORE (name,subject,score,tscore) values (?,?,?,?)',(self.name,self.subject,self.score,self.tscore))\n",
        "        db.commit()\n",
        "    \n",
        "    def showDB(self):\n",
        "        list = db.execute('select * from PSLETSCORE order by name')\n",
        "        for i in list:\n",
        "            print(i)"
      ],
      "execution_count": null,
      "outputs": []
    },
    {
      "cell_type": "code",
      "metadata": {
        "id": "ER1z2NzToKXe",
        "colab": {
          "base_uri": "https://localhost:8080/"
        },
        "outputId": "18bf71d7-6b1b-4d32-93e2-738508792487"
      },
      "source": [
        "try:\n",
        "    name = input('Enter name: ')\n",
        "    subject = input('Enter subject: ')\n",
        "    score = float(input('Enter Score (0-100): '))\n",
        "except:\n",
        "    print(\"you key the wrong info\")\n",
        "else:\n",
        "    tscore=TSCORE(name,subject,score)\n",
        "    tscore.keyDB()\n",
        "    tscore.showDB()\n",
        "finally:\n",
        "    print(\"thank you for your input\")"
      ],
      "execution_count": null,
      "outputs": [
        {
          "output_type": "stream",
          "name": "stdout",
          "text": [
            "Enter name: fff\n",
            "Enter subject: hgsdf\n",
            "Enter Score (0-100): 100\n",
            "('fff', 'hgsdf', 100.0, 78.57)\n",
            "thank you for your input\n"
          ]
        }
      ]
    },
    {
      "cell_type": "markdown",
      "source": [
        "\n",
        "\n",
        "---\n",
        "\n"
      ],
      "metadata": {
        "id": "pQuPSW0nn53y"
      }
    },
    {
      "cell_type": "markdown",
      "source": [
        "#THE END"
      ],
      "metadata": {
        "id": "Zo0e6s62oDgd"
      }
    },
    {
      "cell_type": "markdown",
      "source": [
        "\n",
        "\n",
        "---\n",
        "\n"
      ],
      "metadata": {
        "id": "6DYCpMltoFIq"
      }
    }
  ]
}