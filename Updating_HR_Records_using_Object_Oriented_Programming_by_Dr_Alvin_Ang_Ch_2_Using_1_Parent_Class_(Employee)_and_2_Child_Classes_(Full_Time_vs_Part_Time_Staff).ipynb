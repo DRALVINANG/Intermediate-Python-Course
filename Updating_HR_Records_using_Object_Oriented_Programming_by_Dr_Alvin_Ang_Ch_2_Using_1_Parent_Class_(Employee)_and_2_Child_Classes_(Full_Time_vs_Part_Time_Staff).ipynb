{
  "nbformat": 4,
  "nbformat_minor": 0,
  "metadata": {
    "colab": {
      "name": "Updating HR Records using Object Oriented Programming by Dr. Alvin Ang - Ch 2: Using 1 Parent Class (Employee) and 2 Child Classes (Full Time vs Part Time Staff).ipynb",
      "provenance": [],
      "collapsed_sections": [],
      "toc_visible": true
    },
    "kernelspec": {
      "name": "python3",
      "display_name": "Python 3"
    },
    "language_info": {
      "name": "python"
    }
  },
  "cells": [
    {
      "cell_type": "markdown",
      "metadata": {
        "id": "I9s2eQvIZwj3"
      },
      "source": [
        "#Chapter 2: Using 1 Parent Class (Employee) and 2 Child Classes (Full Time vs Part Time Staff)"
      ]
    },
    {
      "cell_type": "markdown",
      "source": [
        "We want to:\n",
        "- Create Employee PARENT CLASS\n",
        "- Full Time Staff CHILD Class\n",
        "- Full Time Staff has \n",
        "        ◦ Name\n",
        "        ◦ Salary\n",
        "        ◦ Leave\n",
        "\n",
        "- Part Time Staff CHILD Class\n",
        "- Part Time Staff has \n",
        "        ◦ Name \n",
        "        ◦ Hourly Rate\n",
        "        ◦ NO salary and leave attributes\n",
        "\n",
        "- Staff Strength ONLY counts Full Time Staff"
      ],
      "metadata": {
        "id": "vJHvOxdlVXzZ"
      }
    },
    {
      "cell_type": "markdown",
      "source": [
        "\n",
        "\n",
        "---\n",
        "\n"
      ],
      "metadata": {
        "id": "f3PqRHReg1dR"
      }
    },
    {
      "cell_type": "markdown",
      "source": [
        "#2a) Creating the Employee PARENT Class"
      ],
      "metadata": {
        "id": "cXYplfc_gVMj"
      }
    },
    {
      "cell_type": "code",
      "metadata": {
        "id": "icBFA3v3asHQ"
      },
      "source": [
        "class Employee:\n",
        "\n",
        "    empCount = 0\n",
        "\n",
        "#-------------------------------------------------------------------------------    \n",
        "#1st function: Init\n",
        "#-------------------------------------------------------------------------------\n",
        "\n",
        "    def __init__(self,name,salary):\n",
        "        self.name = name\n",
        "        self.salary = salary\n",
        "        Employee.empCount = Employee.empCount+1\n",
        "\n",
        "#-------------------------------------------------------------------------------    \n",
        "#2nd function: Del\n",
        "#-------------------------------------------------------------------------------\n",
        "\n",
        "    def __del__(self):\n",
        "        Employee.empCount = Employee.empCount-1\n",
        "        print(\"{} has left the company\".format(self.name))\n",
        "          \n",
        "#-------------------------------------------------------------------------------    \n",
        "#3rd function: Display Employee Count\n",
        "#-------------------------------------------------------------------------------\n",
        "\n",
        "    def dispEmployeeCount(self):\n",
        "        print(\"Number of Employee is {}\".format(Employee.empCount)) "
      ],
      "execution_count": 1,
      "outputs": []
    },
    {
      "cell_type": "markdown",
      "source": [
        "\n",
        "\n",
        "---\n",
        "\n"
      ],
      "metadata": {
        "id": "DVsc_xj9iWng"
      }
    },
    {
      "cell_type": "markdown",
      "source": [
        "#2b) Creating the FT Child Class"
      ],
      "metadata": {
        "id": "FyaZoXnoiae9"
      }
    },
    {
      "cell_type": "code",
      "metadata": {
        "id": "c730INmnazrn"
      },
      "source": [
        "class FullTimeStaff(Employee):\n",
        "\n",
        "#-------------------------------------------------------------------------------    \n",
        "#1st function: Init\n",
        "#-------------------------------------------------------------------------------\n",
        "    \n",
        "    def __init__(self,name,salary,leave):\n",
        "        super().__init__(name,salary)\n",
        "        self.leave = leave\n",
        "\n",
        "#-------------------------------------------------------------------------------    \n",
        "#2nd function: Display Full Time Employee Attributes\n",
        "#-------------------------------------------------------------------------------\n",
        "\n",
        "    def dispFTEmployee(self):\n",
        "        print(\"{} salary is {} and leave is {}\".format(self.name,self.salary,self.leave))\n",
        " "
      ],
      "execution_count": 2,
      "outputs": []
    },
    {
      "cell_type": "markdown",
      "source": [
        "\n",
        "\n",
        "---\n",
        "\n"
      ],
      "metadata": {
        "id": "8YHYEXeEilNl"
      }
    },
    {
      "cell_type": "markdown",
      "source": [
        "#2c) Creating the PT Child Class"
      ],
      "metadata": {
        "id": "2PM7-OXHihhc"
      }
    },
    {
      "cell_type": "code",
      "metadata": {
        "id": "kr3NQHAia0i1"
      },
      "source": [
        "class PartTimeStaff(Employee):\n",
        "\n",
        "#-------------------------------------------------------------------------------    \n",
        "#1st function: Init\n",
        "#-------------------------------------------------------------------------------\n",
        "    \n",
        "    def __init__(self,PTname,hrrate):\n",
        "        #super().__init__(name,0)\n",
        "        self.PTname = PTname\n",
        "        self.hrrate = hrrate\n",
        "        \n",
        "#-------------------------------------------------------------------------------    \n",
        "#2nd function: Display Part Time Employee Attributies\n",
        "#-------------------------------------------------------------------------------\n",
        "\n",
        "    def dispPTEmployee(self):\n",
        "        print(\"{} hourly rate is {}\".format(self.PTname,self.hrrate))"
      ],
      "execution_count": 3,
      "outputs": []
    },
    {
      "cell_type": "markdown",
      "source": [
        "\n",
        "\n",
        "---\n",
        "\n"
      ],
      "metadata": {
        "id": "OheuqKlEioCE"
      }
    },
    {
      "cell_type": "markdown",
      "source": [
        "#2e) Keying in 2 FT Employees & 1 PT Employee"
      ],
      "metadata": {
        "id": "9KhCAmyRiova"
      }
    },
    {
      "cell_type": "code",
      "metadata": {
        "id": "JyK9SlFya334"
      },
      "source": [
        "emp1 = FullTimeStaff('Ally',5000,24)"
      ],
      "execution_count": 4,
      "outputs": []
    },
    {
      "cell_type": "code",
      "source": [
        "emp2 = FullTimeStaff('Belinda',6000,21)"
      ],
      "metadata": {
        "id": "2ra8qgsRrCtM"
      },
      "execution_count": 5,
      "outputs": []
    },
    {
      "cell_type": "code",
      "source": [
        "emp3 = PartTimeStaff('Jane',100)"
      ],
      "metadata": {
        "id": "aS8qvbBdrEBs"
      },
      "execution_count": 6,
      "outputs": []
    },
    {
      "cell_type": "markdown",
      "source": [
        "\n",
        "\n",
        "---\n",
        "\n"
      ],
      "metadata": {
        "id": "Yptx5O6uitTe"
      }
    },
    {
      "cell_type": "markdown",
      "source": [
        "#2f) Displaying Employee 1 Attributes"
      ],
      "metadata": {
        "id": "hJol3AFZqHH_"
      }
    },
    {
      "cell_type": "code",
      "source": [
        "emp1.dispFTEmployee()"
      ],
      "metadata": {
        "colab": {
          "base_uri": "https://localhost:8080/"
        },
        "id": "sBHuXaWlud7h",
        "outputId": "8daa0c95-69b3-41fa-ee66-34eb39de927d"
      },
      "execution_count": 7,
      "outputs": [
        {
          "output_type": "stream",
          "name": "stdout",
          "text": [
            "Ally salary is 5000 and leave is 24\n"
          ]
        }
      ]
    },
    {
      "cell_type": "markdown",
      "source": [
        "\n",
        "\n",
        "---\n",
        "\n"
      ],
      "metadata": {
        "id": "bFkUNuSYqVog"
      }
    },
    {
      "cell_type": "markdown",
      "source": [
        "#2g) Displaying FT Count"
      ],
      "metadata": {
        "id": "IsjSQTbMqWuA"
      }
    },
    {
      "cell_type": "code",
      "source": [
        "emp1.dispEmployeeCount()"
      ],
      "metadata": {
        "colab": {
          "base_uri": "https://localhost:8080/"
        },
        "id": "2aOS2ZATukA5",
        "outputId": "3e78c936-b310-405b-c94b-c8094154f65a"
      },
      "execution_count": 8,
      "outputs": [
        {
          "output_type": "stream",
          "name": "stdout",
          "text": [
            "Number of Employee is 2\n"
          ]
        }
      ]
    },
    {
      "cell_type": "markdown",
      "source": [
        "\n",
        "\n",
        "---\n",
        "\n"
      ],
      "metadata": {
        "id": "yGDB9b3Zqt-n"
      }
    },
    {
      "cell_type": "markdown",
      "source": [
        "#2h) Displaying PT Rate"
      ],
      "metadata": {
        "id": "xAYNB59dqvWJ"
      }
    },
    {
      "cell_type": "code",
      "source": [
        "emp3.dispPTEmployee()"
      ],
      "metadata": {
        "colab": {
          "base_uri": "https://localhost:8080/"
        },
        "id": "CIyvyUKSuk0J",
        "outputId": "1455437a-2c61-4784-a01a-70700f47abe6"
      },
      "execution_count": 9,
      "outputs": [
        {
          "output_type": "stream",
          "name": "stdout",
          "text": [
            "Jane hourly rate is 100\n"
          ]
        }
      ]
    },
    {
      "cell_type": "markdown",
      "source": [
        "\n",
        "\n",
        "---\n",
        "\n"
      ],
      "metadata": {
        "id": "aEOb4BLTrGE2"
      }
    },
    {
      "cell_type": "markdown",
      "source": [
        "#2i) Delete Ally Away...."
      ],
      "metadata": {
        "id": "AiGowVxINslL"
      }
    },
    {
      "cell_type": "code",
      "source": [
        "del emp1"
      ],
      "metadata": {
        "id": "MMiwio2WumkQ",
        "colab": {
          "base_uri": "https://localhost:8080/"
        },
        "outputId": "d3177ef5-8d4b-475c-e709-1f1605beb1b9"
      },
      "execution_count": 10,
      "outputs": [
        {
          "output_type": "stream",
          "name": "stdout",
          "text": [
            "Ally has left the company\n"
          ]
        }
      ]
    },
    {
      "cell_type": "markdown",
      "source": [
        "\n",
        "\n",
        "---\n",
        "\n"
      ],
      "metadata": {
        "id": "ruNxxwqsN-oF"
      }
    },
    {
      "cell_type": "markdown",
      "source": [
        "#2j) Delete Belinda Away...."
      ],
      "metadata": {
        "id": "EISdHU-_N_9Y"
      }
    },
    {
      "cell_type": "code",
      "source": [
        "del emp2"
      ],
      "metadata": {
        "id": "SBLYGRonuotI",
        "colab": {
          "base_uri": "https://localhost:8080/"
        },
        "outputId": "97bd1048-78d2-418f-bdba-569cdec28a6b"
      },
      "execution_count": 11,
      "outputs": [
        {
          "output_type": "stream",
          "name": "stdout",
          "text": [
            "Belinda has left the company\n"
          ]
        }
      ]
    },
    {
      "cell_type": "markdown",
      "source": [
        "\n",
        "\n",
        "---\n",
        "\n"
      ],
      "metadata": {
        "id": "aCSpCeE6ONOk"
      }
    },
    {
      "cell_type": "markdown",
      "source": [
        "#2k) How Many Employees Left?"
      ],
      "metadata": {
        "id": "eixgX0NYOObN"
      }
    },
    {
      "cell_type": "code",
      "source": [
        "emp3.dispEmployeeCount()"
      ],
      "metadata": {
        "colab": {
          "base_uri": "https://localhost:8080/"
        },
        "id": "h2zttvUjuqVo",
        "outputId": "b8bde580-7e99-4496-ced7-08dd09f20d00"
      },
      "execution_count": 12,
      "outputs": [
        {
          "output_type": "stream",
          "name": "stdout",
          "text": [
            "Number of Employee is 0\n"
          ]
        }
      ]
    },
    {
      "cell_type": "markdown",
      "source": [
        "\n",
        "\n",
        "---\n",
        "\n"
      ],
      "metadata": {
        "id": "xIy1y1yGNsYA"
      }
    },
    {
      "cell_type": "markdown",
      "source": [
        "#THE END\n",
        "\n",
        "---\n",
        "\n"
      ],
      "metadata": {
        "id": "ZnzDouAlOTLh"
      }
    }
  ]
}